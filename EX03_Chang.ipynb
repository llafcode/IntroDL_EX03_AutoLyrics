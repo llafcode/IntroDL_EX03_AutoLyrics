{
  "nbformat": 4,
  "nbformat_minor": 0,
  "metadata": {
    "colab": {
      "name": "EX03-Chang.ipynb",
      "version": "0.3.2",
      "provenance": [],
      "collapsed_sections": [],
      "toc_visible": true,
      "include_colab_link": true
    },
    "kernelspec": {
      "name": "python3",
      "display_name": "Python 3"
    },
    "accelerator": "GPU"
  },
  "cells": [
    {
      "cell_type": "markdown",
      "metadata": {
        "id": "view-in-github",
        "colab_type": "text"
      },
      "source": [
        "<a href=\"https://colab.research.google.com/github/llafcode/IntroDL_EX03_AutoLyrics/blob/master/EX03_Chang.ipynb\" target=\"_parent\"><img src=\"https://colab.research.google.com/assets/colab-badge.svg\" alt=\"Open In Colab\"/></a>"
      ]
    },
    {
      "cell_type": "markdown",
      "metadata": {
        "id": "IO4sV0zzcMq1",
        "colab_type": "text"
      },
      "source": [
        "# Installation\n",
        "\n"
      ]
    },
    {
      "cell_type": "markdown",
      "metadata": {
        "id": "2hgwcS_ife_1",
        "colab_type": "text"
      },
      "source": [
        "This code installs a time utility to measure run time of cells."
      ]
    },
    {
      "cell_type": "code",
      "metadata": {
        "id": "lKELlgngfaD8",
        "colab_type": "code",
        "colab": {
          "base_uri": "https://localhost:8080/",
          "height": 34
        },
        "outputId": "ed905556-29c9-4d82-df82-1319999fd4b2"
      },
      "source": [
        "%%capture\n",
        "!pip install ipython-autotime\n",
        "\n",
        "%load_ext autotime"
      ],
      "execution_count": 42,
      "outputs": [
        {
          "output_type": "stream",
          "text": [
            "time: 3.13 s\n"
          ],
          "name": "stdout"
        }
      ]
    },
    {
      "cell_type": "markdown",
      "metadata": {
        "id": "HtC6N_IEfb-P",
        "colab_type": "text"
      },
      "source": [
        "The dataset was uploaded to [llafcode/IntroDL_EX03_AutoLyrics](https://github.com/llafcode/IntroDL_EX03_AutoLyrics), so we first need to clone the repository, with the data. To make things easier, we also define:\n",
        "\n",
        "*   `repo_path` - the repository path (this should be cross platrform since we use `os` module)\n",
        "*   `train_path` - the train dataset path\n",
        "*   `test_path` - the test dataset path\n",
        "\n"
      ]
    },
    {
      "cell_type": "code",
      "metadata": {
        "id": "nBObKzrn-rU2",
        "colab_type": "code",
        "outputId": "67bc57f2-0d26-4435-cce3-d00657fee757",
        "colab": {
          "base_uri": "https://localhost:8080/",
          "height": 34
        }
      },
      "source": [
        "%%capture\n",
        "import os\n",
        "\n",
        "# Clone the entire repo.\n",
        "!git clone -s git://github.com/llafcode/IntroDL_EX03_AutoLyrics.git AutoLyrics\n",
        "repo_path = os.path.join(os.getcwd(), 'AutoLyrics')\n",
        "melody_path = os.path.join(repo_path, 'data', 'midi_files')\n",
        "train_data = os.path.join(repo_path, 'data', 'lyrics_train_set.csv')\n",
        "test_data = os.path.join(repo_path, 'data', 'lyrics_test_set.csv')"
      ],
      "execution_count": 15,
      "outputs": [
        {
          "output_type": "stream",
          "text": [
            "time: 1.75 s\n"
          ],
          "name": "stdout"
        }
      ]
    },
    {
      "cell_type": "markdown",
      "metadata": {
        "id": "l1tSDzQsddNp",
        "colab_type": "text"
      },
      "source": [
        "Next, we install TensorFlow 2.0 and import it"
      ]
    },
    {
      "cell_type": "code",
      "metadata": {
        "id": "ti0-gbI8ddZy",
        "colab_type": "code",
        "outputId": "6a97a640-10a1-42e3-f6bd-ad8e0d6528fa",
        "colab": {
          "base_uri": "https://localhost:8080/",
          "height": 34
        }
      },
      "source": [
        "%%capture\n",
        "from __future__ import absolute_import, division, print_function, unicode_literals\n",
        "\n",
        "# !pip install -q tensorflow-gpu==2.0.0-alpha0\n",
        "#!pip install -q tf-nightly-gpu-2.0-preview\n",
        "\n",
        "import tensorflow as tf\n",
        "AUTOTUNE = tf.data.experimental.AUTOTUNE\n",
        "\n",
        "# For potential eager executions\n",
        "# tf.enable_eager_execution()"
      ],
      "execution_count": 16,
      "outputs": [
        {
          "output_type": "stream",
          "text": [
            "time: 6.57 ms\n"
          ],
          "name": "stdout"
        }
      ]
    },
    {
      "cell_type": "markdown",
      "metadata": {
        "id": "cmY4Kk3bdgM2",
        "colab_type": "text"
      },
      "source": [
        "For reproducible results, we init numpy and tensorflow random seed with same values"
      ]
    },
    {
      "cell_type": "code",
      "metadata": {
        "id": "OEG__3Fadghg",
        "colab_type": "code",
        "outputId": "5fe42ded-8f4a-4148-d671-6a44f1232930",
        "colab": {
          "base_uri": "https://localhost:8080/",
          "height": 51
        }
      },
      "source": [
        "import pandas as pd\n",
        "import numpy as np\n",
        "np.set_printoptions(precision=4)\n",
        "np.random.seed(2)\n",
        "# tf.random.set_seed(2)\n",
        "\n",
        "# Make sure we are set to GPU (under Runtime->Change runtime type)\n",
        "print('Running on GPU' if tf.test.is_gpu_available() else 'Please change runtime type to GPU on Google Colab under Runtime')"
      ],
      "execution_count": 17,
      "outputs": [
        {
          "output_type": "stream",
          "text": [
            "Running on GPU\n",
            "time: 12.3 ms\n"
          ],
          "name": "stdout"
        }
      ]
    },
    {
      "cell_type": "markdown",
      "metadata": {
        "id": "dJYmBTu-eMt5",
        "colab_type": "text"
      },
      "source": [
        "Import pretty midi"
      ]
    },
    {
      "cell_type": "code",
      "metadata": {
        "id": "NkZVFQpfeLc0",
        "colab_type": "code",
        "outputId": "ec193ed7-8eb3-4094-bf42-f8047615665a",
        "colab": {
          "base_uri": "https://localhost:8080/",
          "height": 34
        }
      },
      "source": [
        "import pretty_midi\n",
        "\n",
        "# For plotting\n",
        "import mir_eval.display\n",
        "import librosa.display\n",
        "\n",
        "import matplotlib.pyplot as plt\n",
        "%matplotlib inline\n",
        "\n",
        "# For putting audio in the notebook\n",
        "import IPython.display\n",
        "\n",
        "import seaborn as sns\n",
        "sns.set()\n",
        "# sns.set(rc={'figure.figsize':(15,15)})\n",
        "# sns.set_palette('Paired', 12)"
      ],
      "execution_count": 18,
      "outputs": [
        {
          "output_type": "stream",
          "text": [
            "time: 7.59 ms\n"
          ],
          "name": "stdout"
        }
      ]
    },
    {
      "cell_type": "markdown",
      "metadata": {
        "id": "9MGYdXHSMkiU",
        "colab_type": "text"
      },
      "source": [
        "The documentation of Pretty_midi is availabel [here](https://craffel.github.io/pretty-midi/), and a jupyter notebook tutorial is available [here](https://nbviewer.jupyter.org/github/craffel/pretty-midi/blob/master/Tutorial.ipynb)."
      ]
    },
    {
      "cell_type": "code",
      "metadata": {
        "id": "-aB3rPdFGFbo",
        "colab_type": "code",
        "outputId": "38b05e29-ad3c-4077-ad6d-a24c0c6e33ba",
        "colab": {
          "base_uri": "https://localhost:8080/",
          "height": 34
        }
      },
      "source": [
        "# Load a single mid file\n",
        "pm = pretty_midi.PrettyMIDI(os.path.join(melody_path, '1910_Fruitgum_Company_-_Simon_Says.mid'))"
      ],
      "execution_count": 0,
      "outputs": [
        {
          "output_type": "stream",
          "text": [
            "time: 737 ms\n"
          ],
          "name": "stdout"
        }
      ]
    },
    {
      "cell_type": "markdown",
      "metadata": {
        "id": "sV3HGD41ipJ5",
        "colab_type": "text"
      },
      "source": [
        "A great way to visualize MIDI data is via a piano roll, which is a time-frequency matrix where each row is a different MIDI pitch and each column is a different slice in time. pretty_midi can produce piano roll matrices for each indivual instrument (via Instrument.get_piano_roll) or the entire PrettyMIDI object (summed across instruments, via PrettyMIDI.get_piano_roll). The spacing in time between subsequent columns of the matrix is determined by the fs parameter."
      ]
    },
    {
      "cell_type": "code",
      "metadata": {
        "id": "oKsGnvfBevVN",
        "colab_type": "code",
        "outputId": "48d0c089-fcaa-4cfb-e15c-ff4cd7afa883",
        "colab": {
          "base_uri": "https://localhost:8080/",
          "height": 308
        }
      },
      "source": [
        "def plot_piano_roll(pm, start_pitch, end_pitch, fs=100):\n",
        "  # Use librosa's specshow function for displaying the piano roll\n",
        "  librosa.display.specshow(pm.get_piano_roll(fs)[start_pitch:end_pitch],\n",
        "                           hop_length=1, sr=fs, x_axis='time', y_axis='cqt_note',\n",
        "                           fmin=pretty_midi.note_number_to_hz(start_pitch))\n",
        "  \n",
        "plt.figure(figsize=(12, 4))\n",
        "plot_piano_roll(pm, 24, 84)"
      ],
      "execution_count": 0,
      "outputs": [
        {
          "output_type": "display_data",
          "data": {
            "image/png": "[encoded data removed]",
            "text/plain": [
              "<Figure size 864x288 with 1 Axes>"
            ]
          },
          "metadata": {
            "tags": []
          }
        },
        {
          "output_type": "stream",
          "text": [
            "time: 1.71 s\n"
          ],
          "name": "stdout"
        }
      ]
    },
    {
      "cell_type": "code",
      "metadata": {
        "id": "ANxt2-MQeO_W",
        "colab_type": "code",
        "outputId": "bab58b66-0932-420a-b923-9cbf0e0f1862",
        "colab": {
          "base_uri": "https://localhost:8080/",
          "height": 70
        }
      },
      "source": [
        "# The instruments list\n",
        "print(pm.instruments)"
      ],
      "execution_count": 0,
      "outputs": [
        {
          "output_type": "stream",
          "text": [
            "[Instrument(program=18, is_drum=False, name=\"Organ\"), Instrument(program=34, is_drum=False, name=\"Bass\"), Instrument(program=48, is_drum=False, name=\"Strings\"), Instrument(program=67, is_drum=False, name=\"Melody\"), Instrument(program=25, is_drum=False, name=\"6 String\"), Instrument(program=0, is_drum=False, name=\"12 String\"), Instrument(program=0, is_drum=False, name=\"Chips\"), Instrument(program=61, is_drum=False, name=\"Brass\"), Instrument(program=53, is_drum=False, name=\"Syn Vox\"), Instrument(program=0, is_drum=True, name=\"Kick\"), Instrument(program=16, is_drum=False, name=\"Solo Organ\")]\n",
            "time: 2.95 ms\n"
          ],
          "name": "stdout"
        }
      ]
    },
    {
      "cell_type": "code",
      "metadata": {
        "id": "3LXYgyMNevP0",
        "colab_type": "code",
        "outputId": "7240a5d1-03da-4db2-f39a-52f5e73a23bd",
        "colab": {
          "base_uri": "https://localhost:8080/",
          "height": 34
        }
      },
      "source": [
        "# Listen it!\n",
        "# IPython.display.Audio(pm.synthesize(fs=16000), rate=16000)\n",
        "# Sounds like sine waves..."
      ],
      "execution_count": 0,
      "outputs": [
        {
          "output_type": "stream",
          "text": [
            "time: 509 µs\n"
          ],
          "name": "stdout"
        }
      ]
    },
    {
      "cell_type": "code",
      "metadata": {
        "id": "xwj7OI2HkRAn",
        "colab_type": "code",
        "outputId": "c5ff1012-7d6b-43b6-c753-09ca6358e6cc",
        "colab": {
          "base_uri": "https://localhost:8080/",
          "height": 118
        }
      },
      "source": [
        "# Let's look at what's in this MIDI file\n",
        "print(f'There are {len(pm.time_signature_changes)} time signature changes')\n",
        "print(f'There are {len(pm.instruments)} instruments')\n",
        "print(f'Instrument 3 has {len(pm.instruments[2].notes)} notes')\n",
        "print(f'Instrument 4 has {len(pm.instruments[3].pitch_bends)} pitch bends')\n",
        "print(f'Instrument 5 has {len(pm.instruments[4].control_changes)} control changes')"
      ],
      "execution_count": 0,
      "outputs": [
        {
          "output_type": "stream",
          "text": [
            "There are 1 time signature changes\n",
            "There are 11 instruments\n",
            "Instrument 3 has 155 notes\n",
            "Instrument 4 has 0 pitch bends\n",
            "Instrument 5 has 4 control changes\n",
            "time: 5.64 ms\n"
          ],
          "name": "stdout"
        }
      ]
    },
    {
      "cell_type": "markdown",
      "metadata": {
        "id": "nwKDEdSyB34K",
        "colab_type": "text"
      },
      "source": [
        "# Dataset analysis"
      ]
    },
    {
      "cell_type": "markdown",
      "metadata": {
        "id": "IK8AOupzGyz-",
        "colab_type": "text"
      },
      "source": [
        "In the csv file, there are more than three columns. We are currently not sure what are the other columns, and for the initial experiment, we start with only the first three columns."
      ]
    },
    {
      "cell_type": "code",
      "metadata": {
        "id": "r8kQITrbBdoe",
        "colab_type": "code",
        "outputId": "8d77ab79-d592-47d3-db72-9358f0a3028c",
        "colab": {
          "base_uri": "https://localhost:8080/",
          "height": 34
        }
      },
      "source": [
        "def remove_noise_char(lyrics):\n",
        "  # Replace '' with \" (later remove it)\n",
        "  ret = lyrics.str.replace(r\"''\", '\"')\n",
        "  \n",
        "  # Replace ` with '\n",
        "  ret = ret.str.replace(r'`', \"'\")\n",
        "  \n",
        "  # Replace / with - (appears in 24/7)\n",
        "  ret = ret.str.replace(r'/', '-')\n",
        "\n",
        "  # Replace three ? with one\n",
        "  ret = ret.str.replace('\\?\\?\\?', '?')\n",
        "\n",
        "  # Replace all brackets, :;#\", and weird chars\n",
        "  ret = ret.str.replace(r'[\\[\\]()\\{\\}:;#\\*\"ã¤¼©¦­]', '')\n",
        "  \n",
        "  # Remove certain words\n",
        "  for word in ['chorus', '\\-\\-\\-', '\\-\\-']:\n",
        "    ret = ret.str.replace(word, '')\n",
        "    \n",
        "  # Replace these words with space\n",
        "  for word in ['\\.\\.\\.\\.\\.', '\\.\\.\\.\\.', '\\.\\.\\.', '\\.\\.', \" '\"]:\n",
        "    ret = ret.str.replace(word, ' ')\n",
        "    \n",
        "  # Remove duplicate spaces\n",
        "  ret = ret.apply(lambda s: ' '.join(s.split()))\n",
        "  return ret"
      ],
      "execution_count": 19,
      "outputs": [
        {
          "output_type": "stream",
          "text": [
            "time: 9.26 ms\n"
          ],
          "name": "stdout"
        }
      ]
    },
    {
      "cell_type": "code",
      "metadata": {
        "id": "yaBhu4wMBoYm",
        "colab_type": "code",
        "outputId": "369d312b-93c5-4c66-9a72-6fddda3917cf",
        "colab": {
          "base_uri": "https://localhost:8080/",
          "height": 34
        }
      },
      "source": [
        "from collections import Counter\n",
        "\n",
        "def plot_word_freq(column):\n",
        "  counts = Counter(word_tokenize(column.str.cat(sep=' ')))\n",
        "  labels, values = zip(*counts.items())\n",
        "  \n",
        "  print(f'Total number of words (raw): {len(labels)}')\n",
        "  \n",
        "  plt.plot(values)\n",
        "  plt.show()\n",
        "  \n",
        "  return labels"
      ],
      "execution_count": 20,
      "outputs": [
        {
          "output_type": "stream",
          "text": [
            "time: 3.4 ms\n"
          ],
          "name": "stdout"
        }
      ]
    },
    {
      "cell_type": "code",
      "metadata": {
        "id": "NCPWJ3mDjs_P",
        "colab_type": "code",
        "outputId": "db672b29-c205-4996-f839-a3e0b33081d3",
        "colab": {
          "base_uri": "https://localhost:8080/",
          "height": 221
        }
      },
      "source": [
        "df_train = pd.read_csv(train_data, usecols=[0,1,2], names=['author', 'song', 'lyrics'])\n",
        "df_train.head()"
      ],
      "execution_count": 21,
      "outputs": [
        {
          "output_type": "execute_result",
          "data": {
            "text/html": [
              "<div>\n",
              "<style scoped>\n",
              "    .dataframe tbody tr th:only-of-type {\n",
              "        vertical-align: middle;\n",
              "    }\n",
              "\n",
              "    .dataframe tbody tr th {\n",
              "        vertical-align: top;\n",
              "    }\n",
              "\n",
              "    .dataframe thead th {\n",
              "        text-align: right;\n",
              "    }\n",
              "</style>\n",
              "<table border=\"1\" class=\"dataframe\">\n",
              "  <thead>\n",
              "    <tr style=\"text-align: right;\">\n",
              "      <th></th>\n",
              "      <th>author</th>\n",
              "      <th>song</th>\n",
              "      <th>lyrics</th>\n",
              "    </tr>\n",
              "  </thead>\n",
              "  <tbody>\n",
              "    <tr>\n",
              "      <th>0</th>\n",
              "      <td>elton john</td>\n",
              "      <td>candle in the wind</td>\n",
              "      <td>goodbye norma jean &amp; though i never knew you a...</td>\n",
              "    </tr>\n",
              "    <tr>\n",
              "      <th>1</th>\n",
              "      <td>gerry rafferty</td>\n",
              "      <td>baker street</td>\n",
              "      <td>winding your way down on baker street &amp; lite i...</td>\n",
              "    </tr>\n",
              "    <tr>\n",
              "      <th>2</th>\n",
              "      <td>gerry rafferty</td>\n",
              "      <td>right down the line</td>\n",
              "      <td>you know i need your love &amp; you've got that ho...</td>\n",
              "    </tr>\n",
              "    <tr>\n",
              "      <th>3</th>\n",
              "      <td>2 unlimited</td>\n",
              "      <td>tribal dance</td>\n",
              "      <td>come on check it out ya'll &amp; (come on come on!...</td>\n",
              "    </tr>\n",
              "    <tr>\n",
              "      <th>4</th>\n",
              "      <td>2 unlimited</td>\n",
              "      <td>let the beat control your body</td>\n",
              "      <td>let the beat control your body &amp; let the beat ...</td>\n",
              "    </tr>\n",
              "  </tbody>\n",
              "</table>\n",
              "</div>"
            ],
            "text/plain": [
              "           author  ...                                             lyrics\n",
              "0      elton john  ...  goodbye norma jean & though i never knew you a...\n",
              "1  gerry rafferty  ...  winding your way down on baker street & lite i...\n",
              "2  gerry rafferty  ...  you know i need your love & you've got that ho...\n",
              "3     2 unlimited  ...  come on check it out ya'll & (come on come on!...\n",
              "4     2 unlimited  ...  let the beat control your body & let the beat ...\n",
              "\n",
              "[5 rows x 3 columns]"
            ]
          },
          "metadata": {
            "tags": []
          },
          "execution_count": 21
        },
        {
          "output_type": "stream",
          "text": [
            "time: 35.8 ms\n"
          ],
          "name": "stdout"
        }
      ]
    },
    {
      "cell_type": "code",
      "metadata": {
        "id": "SKED3n2UFtQC",
        "colab_type": "code",
        "outputId": "04430ec5-d112-46b6-c550-e011300d8eba",
        "colab": {
          "base_uri": "https://localhost:8080/",
          "height": 34
        }
      },
      "source": [
        "df_train['lyrics'] = remove_noise_char(df_train.lyrics)"
      ],
      "execution_count": 22,
      "outputs": [
        {
          "output_type": "stream",
          "text": [
            "time: 228 ms\n"
          ],
          "name": "stdout"
        }
      ]
    },
    {
      "cell_type": "code",
      "metadata": {
        "id": "NH64mYViFNVs",
        "colab_type": "code",
        "outputId": "c6f2a84e-0532-4617-d7d5-bb81f3710a89",
        "colab": {
          "base_uri": "https://localhost:8080/",
          "height": 308
        }
      },
      "source": [
        "import nltk\n",
        "nltk.download('punkt', quiet=True)\n",
        "from nltk import word_tokenize\n",
        "\n",
        "vocab = plot_word_freq(df_train.lyrics)"
      ],
      "execution_count": 23,
      "outputs": [
        {
          "output_type": "stream",
          "text": [
            "Total number of words (raw): 7436\n"
          ],
          "name": "stdout"
        },
        {
          "output_type": "display_data",
          "data": {
            "image/png": "[encoded data removed]",
            "text/plain": [
              "<Figure size 432x288 with 1 Axes>"
            ]
          },
          "metadata": {
            "tags": []
          }
        },
        {
          "output_type": "stream",
          "text": [
            "time: 923 ms\n"
          ],
          "name": "stdout"
        }
      ]
    },
    {
      "cell_type": "markdown",
      "metadata": {
        "id": "cq275nw98JwJ",
        "colab_type": "text"
      },
      "source": [
        "# A lyric generation approach using LSTM (without melodies)"
      ]
    },
    {
      "cell_type": "markdown",
      "metadata": {
        "id": "paJXhlblF8h8",
        "colab_type": "text"
      },
      "source": [
        "## Using pretrained word2vec (Glove)\n"
      ]
    },
    {
      "cell_type": "markdown",
      "metadata": {
        "id": "f_k8MXQNNTOT",
        "colab_type": "text"
      },
      "source": [
        "We need to download the pre-trained Glove word2vec from [here](http://nlp.stanford.edu/data/glove.6B.zip)"
      ]
    },
    {
      "cell_type": "code",
      "metadata": {
        "id": "HxXgWD97Ncgq",
        "colab_type": "code",
        "colab": {
          "base_uri": "https://localhost:8080/",
          "height": 479
        },
        "outputId": "98476f65-fafe-4e5f-a45a-32b07768dde3"
      },
      "source": [
        "!wget http://nlp.stanford.edu/data/glove.6B.zip\n",
        "!unzip glove.6B.zip -d glove_pretrained\n"
      ],
      "execution_count": 13,
      "outputs": [
        {
          "output_type": "stream",
          "text": [
            "--2019-07-20 13:21:22--  http://nlp.stanford.edu/data/glove.6B.zip\n",
            "Resolving nlp.stanford.edu (nlp.stanford.edu)... 171.64.67.140\n",
            "Connecting to nlp.stanford.edu (nlp.stanford.edu)|171.64.67.140|:80... connected.\n",
            "HTTP request sent, awaiting response... 302 Found\n",
            "Location: https://nlp.stanford.edu/data/glove.6B.zip [following]\n",
            "--2019-07-20 13:21:23--  https://nlp.stanford.edu/data/glove.6B.zip\n",
            "Connecting to nlp.stanford.edu (nlp.stanford.edu)|171.64.67.140|:443... connected.\n",
            "HTTP request sent, awaiting response... 301 Moved Permanently\n",
            "Location: http://downloads.cs.stanford.edu/nlp/data/glove.6B.zip [following]\n",
            "--2019-07-20 13:21:23--  http://downloads.cs.stanford.edu/nlp/data/glove.6B.zip\n",
            "Resolving downloads.cs.stanford.edu (downloads.cs.stanford.edu)... 171.64.64.22\n",
            "Connecting to downloads.cs.stanford.edu (downloads.cs.stanford.edu)|171.64.64.22|:80... connected.\n",
            "HTTP request sent, awaiting response... 200 OK\n",
            "Length: 862182613 (822M) [application/zip]\n",
            "Saving to: ‘glove.6B.zip’\n",
            "\n",
            "glove.6B.zip        100%[===================>] 822.24M  25.7MB/s    in 33s     \n",
            "\n",
            "2019-07-20 13:21:56 (24.9 MB/s) - ‘glove.6B.zip’ saved [862182613/862182613]\n",
            "\n",
            "Archive:  glove.6B.zip\n",
            "  inflating: glove_pretrained/glove.6B.50d.txt  \n",
            "  inflating: glove_pretrained/glove.6B.100d.txt  \n",
            "  inflating: glove_pretrained/glove.6B.200d.txt  \n",
            "  inflating: glove_pretrained/glove.6B.300d.txt  \n",
            "time: 1min 2s\n"
          ],
          "name": "stdout"
        }
      ]
    },
    {
      "cell_type": "code",
      "metadata": {
        "id": "d4JwzIfoGCg1",
        "colab_type": "code",
        "colab": {
          "base_uri": "https://localhost:8080/",
          "height": 34
        },
        "outputId": "034d759d-fa3c-4406-c014-d1632ec68a99"
      },
      "source": [
        "pre_trained_embedding = 'glove_pretrained/glove.6B.300d.txt'\n",
        "\n",
        "# Load the pre-trained Glove Word2Vec embeddings\n",
        "def load_embedding(filename):\n",
        "  \"\"\"\n",
        "  input:\n",
        "  @filename: a .txt file of the pre-trained word2vec embedding\n",
        "  \n",
        "  output:\n",
        "  @embedding: a dictionary of word vectors. Keys are distinct words and values are the word vectors\n",
        "  \"\"\"\n",
        "  with open(filename, 'r') as f:\n",
        "    lines = f.readlines()\n",
        "    \n",
        "  embedding = {}\n",
        "  for line in lines:\n",
        "      parts = line.split()\n",
        "      # key is string word, value is numpy array for vector\n",
        "      embedding[parts[0]] = np.asarray(parts[1:], dtype='float32')\n",
        "  return embedding\n",
        "\n",
        "# create a weight matrix for the Embedding layer from a loaded embedding\n",
        "def get_weight_matrix(embedding, vocab):\n",
        "    \"\"\"\n",
        "    input:\n",
        "    @embedding: dictionary of word vectors (all words in the pre-trained model)\n",
        "    @vocab: vocabulary of the lyrics dataset\n",
        "    \n",
        "    output:\n",
        "    @weight_matrix: a n*300 numpy array, where n is the total number of words in the vocabulary.\n",
        "                    each row of this matrix is a 300 dimension word vector of the ith word in vocab.\n",
        "    \"\"\"\n",
        "    \n",
        "    # total vocabulary size plus 0 for unknown words\n",
        "    vocab_size = len(vocab)\n",
        "    # define weight matrix dimensions with all 0\n",
        "    weight_matrix = np.zeros((vocab_size, 300))\n",
        "    # step vocab, store vectors using the Tokenizer's integer mapping\n",
        "    for i, word in enumerate(vocab):\n",
        "        # print(\"Getting word %i, which is %s\" % (i, word))\n",
        "        vector = embedding.get(word)\n",
        "        if vector is not None:\n",
        "            weight_matrix[i] = vector\n",
        "    return weight_matrix"
      ],
      "execution_count": 24,
      "outputs": [
        {
          "output_type": "stream",
          "text": [
            "time: 17.3 ms\n"
          ],
          "name": "stdout"
        }
      ]
    },
    {
      "cell_type": "code",
      "metadata": {
        "id": "fVD1ixOGPPoB",
        "colab_type": "code",
        "colab": {
          "base_uri": "https://localhost:8080/",
          "height": 34
        },
        "outputId": "2fdd80c4-080b-4a9b-d4ae-d1ef039ecc60"
      },
      "source": [
        "raw_embedding = load_embedding(pre_trained_embedding)\n",
        "word_vectors = get_weight_matrix(raw_embedding, vocab)"
      ],
      "execution_count": 25,
      "outputs": [
        {
          "output_type": "stream",
          "text": [
            "time: 25 s\n"
          ],
          "name": "stdout"
        }
      ]
    },
    {
      "cell_type": "markdown",
      "metadata": {
        "id": "O13EnRL-ZRhs",
        "colab_type": "text"
      },
      "source": [
        "## Prepare input and output of the network\n",
        "The input should be a sequence of words (could be one, or n-gram) and the output should be the next word. Therefore during training, we need to specify a n-gram length (>=1) as input for each timestamp, and the next word as the output of this timstamp."
      ]
    },
    {
      "cell_type": "code",
      "metadata": {
        "id": "RumwWyzCHYLJ",
        "colab_type": "code",
        "colab": {
          "base_uri": "https://localhost:8080/",
          "height": 34
        },
        "outputId": "239e5db3-aa1b-43b9-e745-ca7ced7db17d"
      },
      "source": [
        "word_to_indices = dict((c, i) for i, c in enumerate(vocab))\n",
        "indices_to_word = dict((i, c) for i, c in enumerate(vocab))\n",
        "\n",
        "def prepare_input_output(all_lyrics, n=1):\n",
        "  \"\"\"\n",
        "  input:\n",
        "  @all_lyrics: numpy array of strings. All lyric text in the training set\n",
        "  @n: n-gram size, n>=1. n=1 means the length of the context is 1, n=2 means there are two words in the context.\n",
        "  \n",
        "  output:\n",
        "  @context: numpy array of indices of context words\n",
        "  @next_word: numpy array of indices of next word with the specific context\n",
        "  \"\"\"\n",
        "  context = []\n",
        "  next_words = []\n",
        "  \n",
        "  for song in all_lyrics:\n",
        "    # Tokenize the lyrics of one song\n",
        "    lyric_words = word_tokenize(song)\n",
        "    for i in range(0, len(lyric_words) - n):\n",
        "      context.append([word_to_indices[w] for w in lyric_words[i : i+n]])\n",
        "      next_words.append(word_to_indices[lyric_words[i+n]])\n",
        "  return np.array(context), np.array(next_words)\n",
        "  "
      ],
      "execution_count": 26,
      "outputs": [
        {
          "output_type": "stream",
          "text": [
            "time: 16.7 ms\n"
          ],
          "name": "stdout"
        }
      ]
    },
    {
      "cell_type": "code",
      "metadata": {
        "id": "X_Ne1BbRJmJz",
        "colab_type": "code",
        "colab": {
          "base_uri": "https://localhost:8080/",
          "height": 34
        },
        "outputId": "35ab02ab-d11d-4ab4-dea4-1160de651a76"
      },
      "source": [
        "train_lyrics = df_train['lyrics'].values\n",
        "context, next_words = prepare_input_output(train_lyrics, n=1)"
      ],
      "execution_count": 27,
      "outputs": [
        {
          "output_type": "stream",
          "text": [
            "time: 1.21 s\n"
          ],
          "name": "stdout"
        }
      ]
    },
    {
      "cell_type": "code",
      "metadata": {
        "id": "skbaf7PDXgK9",
        "colab_type": "code",
        "colab": {
          "base_uri": "https://localhost:8080/",
          "height": 119
        },
        "outputId": "c0776b32-79c2-4cad-e223-d734ec261f99"
      },
      "source": [
        "for i in range(5):\n",
        "  print(context[i], next_words[i])"
      ],
      "execution_count": 28,
      "outputs": [
        {
          "output_type": "stream",
          "text": [
            "[0] 1\n",
            "[1] 2\n",
            "[2] 3\n",
            "[3] 4\n",
            "[4] 5\n",
            "time: 2.42 ms\n"
          ],
          "name": "stdout"
        }
      ]
    },
    {
      "cell_type": "markdown",
      "metadata": {
        "id": "RTWfZKLWHYrc",
        "colab_type": "text"
      },
      "source": [
        "## Build the network"
      ]
    },
    {
      "cell_type": "code",
      "metadata": {
        "id": "pEtBcRPYYwzk",
        "colab_type": "code",
        "colab": {
          "base_uri": "https://localhost:8080/",
          "height": 34
        },
        "outputId": "649f11f0-5775-44a8-f546-ea5b1d43654d"
      },
      "source": [
        "# Instead of choosing the word with highest probability, \n",
        "# we choose the next word by sampling from the output probability distribution\n",
        "def sample(preds, temperature=1.0):\n",
        "    # helper function to sample an index from a probability array\n",
        "    preds = np.asarray(preds).astype('float64')\n",
        "    preds = np.log(preds) / temperature\n",
        "    exp_preds = np.exp(preds)\n",
        "    preds = exp_preds / np.sum(exp_preds)\n",
        "    probas = np.random.multinomial(1, preds, 1)\n",
        "    return np.argmax(probas)"
      ],
      "execution_count": 29,
      "outputs": [
        {
          "output_type": "stream",
          "text": [
            "time: 3.91 ms\n"
          ],
          "name": "stdout"
        }
      ]
    },
    {
      "cell_type": "code",
      "metadata": {
        "id": "0njxmwg5oDiD",
        "colab_type": "code",
        "outputId": "92cc5faa-f560-4a7c-f845-9889f49abcf6",
        "colab": {
          "base_uri": "https://localhost:8080/",
          "height": 34
        }
      },
      "source": [
        "from tensorflow.keras.models import Sequential\n",
        "from tensorflow.keras.layers import Dense, Dropout\n",
        "from tensorflow.keras.layers import CuDNNLSTM as LSTM\n",
        "from tensorflow.keras.layers import Embedding\n",
        "from tensorflow.keras.callbacks import ModelCheckpoint\n",
        "from tensorflow.keras.optimizers import Adam\n",
        "# from tensorflow.keras.utils import np_utils"
      ],
      "execution_count": 37,
      "outputs": [
        {
          "output_type": "stream",
          "text": [
            "time: 4.24 ms\n"
          ],
          "name": "stdout"
        }
      ]
    },
    {
      "cell_type": "code",
      "metadata": {
        "id": "rdGJL20t1uu7",
        "colab_type": "code",
        "outputId": "75d35790-2b16-4d53-e66b-85c9caac1d91",
        "colab": {
          "base_uri": "https://localhost:8080/",
          "height": 289
        }
      },
      "source": [
        "# define model\n",
        "embedding_layer = Embedding(len(vocab), 300, weights=[word_vectors], trainable=False)\n",
        "\n",
        "model = Sequential()\n",
        "model.add(embedding_layer)\n",
        "model.add(LSTM(300))\n",
        "model.add(Dense(len(vocab), activation='softmax'))\n",
        "print(model.summary())"
      ],
      "execution_count": 35,
      "outputs": [
        {
          "output_type": "stream",
          "text": [
            "Model: \"sequential_1\"\n",
            "_________________________________________________________________\n",
            "Layer (type)                 Output Shape              Param #   \n",
            "=================================================================\n",
            "embedding_1 (Embedding)      (None, None, 300)         2230800   \n",
            "_________________________________________________________________\n",
            "cu_dnnlstm_1 (CuDNNLSTM)     (None, 300)               722400    \n",
            "_________________________________________________________________\n",
            "dense_1 (Dense)              (None, 7436)              2238236   \n",
            "=================================================================\n",
            "Total params: 5,191,436\n",
            "Trainable params: 2,960,636\n",
            "Non-trainable params: 2,230,800\n",
            "_________________________________________________________________\n",
            "None\n",
            "time: 305 ms\n"
          ],
          "name": "stdout"
        }
      ]
    },
    {
      "cell_type": "code",
      "metadata": {
        "id": "nldhv5qOnyE3",
        "colab_type": "code",
        "colab": {
          "base_uri": "https://localhost:8080/",
          "height": 34
        },
        "outputId": "25f0abd6-c48f-44c4-f933-1ff5beebe87a"
      },
      "source": [
        "lr = 0.5\n",
        "optimizer = Adam(lr=0.001)\n",
        "\n",
        "model.compile(loss='sparse_categorical_crossentropy', optimizer=optimizer, metrics=['accuracy'])"
      ],
      "execution_count": 44,
      "outputs": [
        {
          "output_type": "stream",
          "text": [
            "time: 55.7 ms\n"
          ],
          "name": "stdout"
        }
      ]
    },
    {
      "cell_type": "code",
      "metadata": {
        "id": "m67g1vfjTEw-",
        "colab_type": "code",
        "colab": {
          "base_uri": "https://localhost:8080/",
          "height": 1000
        },
        "outputId": "6dce0236-b20e-48c2-dcba-999914709b46"
      },
      "source": [
        "model.fit(context, next_words, epochs=50)"
      ],
      "execution_count": 0,
      "outputs": [
        {
          "output_type": "stream",
          "text": [
            "Epoch 1/50\n",
            "190849/190849 [==============================] - 23s 121us/sample - loss: 3.8628 - acc: 0.2492\n",
            "Epoch 2/50\n",
            "190849/190849 [==============================] - 22s 117us/sample - loss: 3.7704 - acc: 0.2500\n",
            "Epoch 3/50\n",
            "190849/190849 [==============================] - 23s 119us/sample - loss: 3.7387 - acc: 0.2500\n",
            "Epoch 4/50\n",
            "190849/190849 [==============================] - 22s 117us/sample - loss: 3.7236 - acc: 0.2493\n",
            "Epoch 5/50\n",
            "190849/190849 [==============================] - 22s 115us/sample - loss: 3.7146 - acc: 0.2500\n",
            "Epoch 6/50\n",
            "190849/190849 [==============================] - 22s 114us/sample - loss: 3.7101 - acc: 0.2495\n",
            "Epoch 7/50\n",
            "190849/190849 [==============================] - 22s 115us/sample - loss: 3.7035 - acc: 0.2506\n",
            "Epoch 8/50\n",
            "190849/190849 [==============================] - 23s 120us/sample - loss: 3.7020 - acc: 0.2502\n",
            "Epoch 9/50\n",
            "190849/190849 [==============================] - 23s 118us/sample - loss: 3.6978 - acc: 0.2501\n",
            "Epoch 10/50\n",
            "190849/190849 [==============================] - 23s 118us/sample - loss: 3.6964 - acc: 0.2504\n",
            "Epoch 11/50\n",
            "190849/190849 [==============================] - 23s 118us/sample - loss: 3.6946 - acc: 0.2499\n",
            "Epoch 12/50\n",
            "190849/190849 [==============================] - 22s 118us/sample - loss: 3.6924 - acc: 0.2506\n",
            "Epoch 13/50\n",
            "190849/190849 [==============================] - 23s 118us/sample - loss: 3.6908 - acc: 0.2499\n",
            "Epoch 14/50\n",
            "190849/190849 [==============================] - 23s 118us/sample - loss: 3.6888 - acc: 0.2508\n",
            "Epoch 15/50\n",
            "190849/190849 [==============================] - 23s 120us/sample - loss: 3.6875 - acc: 0.2504\n",
            "Epoch 16/50\n",
            "190849/190849 [==============================] - 22s 114us/sample - loss: 3.6861 - acc: 0.2505\n",
            "Epoch 17/50\n",
            "190849/190849 [==============================] - 22s 115us/sample - loss: 3.6844 - acc: 0.2498\n",
            "Epoch 18/50\n",
            "190849/190849 [==============================] - 23s 120us/sample - loss: 3.6832 - acc: 0.2509\n",
            "Epoch 19/50\n",
            "190849/190849 [==============================] - 22s 118us/sample - loss: 3.6818 - acc: 0.2503\n",
            "Epoch 20/50\n",
            "190849/190849 [==============================] - 23s 118us/sample - loss: 3.6803 - acc: 0.2505\n",
            "Epoch 21/50\n",
            "190849/190849 [==============================] - 23s 118us/sample - loss: 3.6803 - acc: 0.2509\n",
            "Epoch 22/50\n",
            "190849/190849 [==============================] - 22s 118us/sample - loss: 3.6792 - acc: 0.2504\n",
            "Epoch 23/50\n",
            "190849/190849 [==============================] - 23s 119us/sample - loss: 3.6785 - acc: 0.2513\n",
            "Epoch 24/50\n",
            "190849/190849 [==============================] - 23s 118us/sample - loss: 3.6781 - acc: 0.2512\n",
            "Epoch 25/50\n",
            "190849/190849 [==============================] - 23s 119us/sample - loss: 3.6768 - acc: 0.2513\n",
            "Epoch 26/50\n",
            "190849/190849 [==============================] - 22s 118us/sample - loss: 3.6758 - acc: 0.2512\n",
            "Epoch 27/50\n",
            "190849/190849 [==============================] - 22s 118us/sample - loss: 3.6759 - acc: 0.2510\n",
            "Epoch 28/50\n",
            "190849/190849 [==============================] - 22s 117us/sample - loss: 3.6756 - acc: 0.2513\n",
            "Epoch 29/50\n",
            "190849/190849 [==============================] - 24s 126us/sample - loss: 3.6750 - acc: 0.2508\n",
            "Epoch 30/50\n",
            "190849/190849 [==============================] - 24s 126us/sample - loss: 3.6748 - acc: 0.2509\n",
            "Epoch 31/50\n",
            "190849/190849 [==============================] - 23s 118us/sample - loss: 3.6742 - acc: 0.2513\n",
            "Epoch 32/50\n",
            "190849/190849 [==============================] - 22s 117us/sample - loss: 3.6732 - acc: 0.2511\n",
            "Epoch 33/50\n",
            "190849/190849 [==============================] - 23s 118us/sample - loss: 3.6729 - acc: 0.2517\n",
            "Epoch 34/50\n",
            "190849/190849 [==============================] - 23s 118us/sample - loss: 3.6720 - acc: 0.2513\n",
            "Epoch 35/50\n",
            " 37568/190849 [====>.........................] - ETA: 17s - loss: 3.6053 - acc: 0.2552"
          ],
          "name": "stdout"
        }
      ]
    },
    {
      "cell_type": "code",
      "metadata": {
        "id": "bVce85KUbu56",
        "colab_type": "code",
        "colab": {
          "base_uri": "https://localhost:8080/",
          "height": 51
        },
        "outputId": "10fd2548-6491-4e37-8305-cfc8f26ba369"
      },
      "source": [
        "print(vocab[5])\n",
        "pred = model.predict(context[5])\n",
        "indices_to_word[sample(pred.reshape(-1))]"
      ],
      "execution_count": 43,
      "outputs": [
        {
          "output_type": "stream",
          "text": [
            "i\n"
          ],
          "name": "stdout"
        },
        {
          "output_type": "execute_result",
          "data": {
            "text/plain": [
              "'was'"
            ]
          },
          "metadata": {
            "tags": []
          },
          "execution_count": 43
        },
        {
          "output_type": "stream",
          "text": [
            "time: 104 ms\n"
          ],
          "name": "stdout"
        }
      ]
    },
    {
      "cell_type": "code",
      "metadata": {
        "id": "orGDcln5YsuP",
        "colab_type": "code",
        "colab": {
          "base_uri": "https://localhost:8080/",
          "height": 34
        },
        "outputId": "8e647649-0b46-444c-a27d-ef29e1737852"
      },
      "source": [
        "initial_word = 'i'\n",
        "output_length = 300\n",
        "output_sentence = [initial_word]\n",
        "prev_word = initial_word\n",
        "\n",
        "for i in range(output_length - 1):\n",
        "  pred = model.predict(context[vocab.index(prev_word)])\n",
        "  next_word = indices_to_word[sample(pred.reshape(-1))]\n",
        "  output_sentence.append(next_word)"
      ],
      "execution_count": 33,
      "outputs": [
        {
          "output_type": "stream",
          "text": [
            "time: 759 ms\n"
          ],
          "name": "stdout"
        }
      ]
    },
    {
      "cell_type": "code",
      "metadata": {
        "id": "yAZEhkl5dvMG",
        "colab_type": "code",
        "colab": {
          "base_uri": "https://localhost:8080/",
          "height": 71
        },
        "outputId": "dbde28e0-3dd1-420b-d243-220670896cbc"
      },
      "source": [
        "print(' '.join(output_sentence))"
      ],
      "execution_count": 34,
      "outputs": [
        {
          "output_type": "stream",
          "text": [
            "i 'm cross 'm 'll do feel want ca see 'm dial fought did 've wan say 'm 'd heard want 'll come only see guess look tell 'm 'm do thank can got 'd could found was think 'm say 'm 'm be see 'm can need do have just 'll wan 'm 'm know saw could wo was have 'm 'm do am knew just 'm only broke wait ca want fall remember remember just think 've 've could 'm got 'll 'll mean really could could 'll 'll got 'm love 'm 'll can lose could find feel 'm 'm go 'm just ca 've would never say will am want have am should what was got wan get can know think do kissed fought 'll 'm 'd 'll 'll just just would 'm not 'm would 'll just 'm will saw ai never 'm can can do am never ca never ca am 've heard 'm i 'll want stick know can 'm break 'm 'll wo know know feel did 've go 'm do like 'd were 'm 'll do know ca just do wish you do see had never 've 'm 'm love do just get got 'll swear 'm feel 'm cross breathe love could would do forgot do 'm 'm 'm do 'm do have do 've 'd wan really need 'll want saw 'm was do 've 'm love got 'll saw 've 've just 've 'd 'm was 'd saw 'm keep can know ca do was 'm was do run like know 'm need 'm look do know just would 've do 're love ca just got wan swear 'll made like would want die wrote realize do 'm 've want have get 'm speak do wan do never\n",
            "time: 1.21 ms\n"
          ],
          "name": "stdout"
        }
      ]
    },
    {
      "cell_type": "code",
      "metadata": {
        "id": "PIbp5jhrxpo3",
        "colab_type": "code",
        "outputId": "d8cc24f9-544b-4334-9f59-22fba03a8b19",
        "colab": {
          "base_uri": "https://localhost:8080/",
          "height": 34
        }
      },
      "source": [
        "%%capture\n",
        "# !python -m nltk.downloader all"
      ],
      "execution_count": 0,
      "outputs": [
        {
          "output_type": "stream",
          "text": [
            "time: 458 µs\n"
          ],
          "name": "stdout"
        }
      ]
    },
    {
      "cell_type": "code",
      "metadata": {
        "id": "kxS7MSlJw5ZN",
        "colab_type": "code",
        "outputId": "9bad79be-f489-4ba2-9ac5-a3b5e6afabdf",
        "colab": {
          "base_uri": "https://localhost:8080/",
          "height": 34
        }
      },
      "source": [
        "# import nltk\n",
        "# nltk.download('punkt', quiet=True)\n",
        "# from nltk import word_tokenize"
      ],
      "execution_count": 0,
      "outputs": [
        {
          "output_type": "stream",
          "text": [
            "time: 33 ms\n"
          ],
          "name": "stdout"
        }
      ]
    }
  ]
}